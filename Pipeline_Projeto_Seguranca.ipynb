{
  "nbformat": 4,
  "nbformat_minor": 0,
  "metadata": {
    "colab": {
      "name": "Pipeline_Projeto_Seguranca.ipynb",
      "provenance": [],
      "collapsed_sections": [
        "UcPAt7L5irqe",
        "aWz_3OSY51R5"
      ]
    },
    "kernelspec": {
      "name": "python3",
      "display_name": "Python 3"
    },
    "language_info": {
      "name": "python"
    }
  },
  "cells": [
    {
      "cell_type": "markdown",
      "source": [
        "# Instalações e Importações"
      ],
      "metadata": {
        "id": "UcPAt7L5irqe"
      }
    },
    {
      "cell_type": "code",
      "source": [
        "pip install apache-beam[gcp]"
      ],
      "metadata": {
        "id": "UZxDu6EG7AmW"
      },
      "execution_count": null,
      "outputs": []
    },
    {
      "cell_type": "code",
      "source": [
        "pip install apache_beam[interactive]"
      ],
      "metadata": {
        "id": "fbBoWUiQkFKc"
      },
      "execution_count": null,
      "outputs": []
    },
    {
      "cell_type": "code",
      "execution_count": null,
      "metadata": {
        "id": "y1XIZju277xX"
      },
      "outputs": [],
      "source": [
        "pip install gcsfs"
      ]
    },
    {
      "cell_type": "code",
      "execution_count": null,
      "metadata": {
        "id": "CkKkFp9RVsnE"
      },
      "outputs": [],
      "source": [
        "import pandas as pd\n",
        "from google.cloud import storage\n",
        "import os"
      ]
    },
    {
      "cell_type": "code",
      "execution_count": null,
      "metadata": {
        "id": "b_kdjkyf77xZ"
      },
      "outputs": [],
      "source": [
        "serviceAccount = 'gs://projeto_final_seguranca/Chave_json/learned-thunder-345517-f0d6af91d085.json'\n",
        "os.environ['GOOGLE_APPLICATION_CREDENTIALS'] = serviceAccount"
      ]
    },
    {
      "cell_type": "markdown",
      "source": [
        "#Elaboração da Pipeline"
      ],
      "metadata": {
        "id": "aWz_3OSY51R5"
      }
    },
    {
      "cell_type": "code",
      "source": [
        "import apache_beam as beam\n",
        "from apache_beam.io.parquetio import WriteToParquet\n",
        "from apache_beam.options.pipeline_options import PipelineOptions\n",
        "\n",
        "pipeline_options = {\n",
        "    'project': 'learned-thunder-345517',\n",
        "    'runner': 'DataflowRunner',\n",
        "    'region': 'us-central1',\n",
        "    'staging_location': 'gs://projeto_final_seguranca/pipeline/stage',\n",
        "    'temp_location': 'gs://projeto_final_seguranca/pipeline/stage/temp',\n",
        "    'template_location': 'gs://projeto_final_seguranca/pipeline/modelos/Pipeline1'\n",
        "}\n",
        "pipeline_options = PipelineOptions.from_dictionary(pipeline_options)\n",
        "p1 = beam.Pipeline(options=pipeline_options)\n",
        "\n",
        "tabela1 = (\n",
        "    p1\n",
        "    |'Abrir o arquivo' >> beam.io.ReadFromText('gs://projeto_final_seguranca/Dataset_original/seguranca_municipio_geral.csv', skip_header_lines= 0)\n",
        "    |'Separar por virgula' >> beam.Map(lambda record: record.split(','))\n",
        "    |'Agregar as colunas' >> beam.Map(lambda record: (record[3],record[4],record[5],record[9],record[10],record[12],record[13],record[14],record[16],record[17]))\n",
        "    |'Salvar' >> beam.io.WriteToText('gs://projeto_final_seguranca/pipeline/criados/base1')\n",
        ")\n",
        "p1.run()"
      ],
      "metadata": {
        "colab": {
          "base_uri": "https://localhost:8080/",
          "height": 155
        },
        "id": "ly8_6xjl53RL",
        "outputId": "162fecad-4878-4b4a-bab8-eb362bb82258"
      },
      "execution_count": null,
      "outputs": [
        {
          "output_type": "display_data",
          "data": {
            "application/javascript": [
              "\n",
              "        if (typeof window.interactive_beam_jquery == 'undefined') {\n",
              "          var jqueryScript = document.createElement('script');\n",
              "          jqueryScript.src = 'https://code.jquery.com/jquery-3.4.1.slim.min.js';\n",
              "          jqueryScript.type = 'text/javascript';\n",
              "          jqueryScript.onload = function() {\n",
              "            var datatableScript = document.createElement('script');\n",
              "            datatableScript.src = 'https://cdn.datatables.net/1.10.20/js/jquery.dataTables.min.js';\n",
              "            datatableScript.type = 'text/javascript';\n",
              "            datatableScript.onload = function() {\n",
              "              window.interactive_beam_jquery = jQuery.noConflict(true);\n",
              "              window.interactive_beam_jquery(document).ready(function($){\n",
              "                \n",
              "              });\n",
              "            }\n",
              "            document.head.appendChild(datatableScript);\n",
              "          };\n",
              "          document.head.appendChild(jqueryScript);\n",
              "        } else {\n",
              "          window.interactive_beam_jquery(document).ready(function($){\n",
              "            \n",
              "          });\n",
              "        }"
            ]
          },
          "metadata": {}
        },
        {
          "output_type": "display_data",
          "data": {
            "text/plain": [
              "<IPython.core.display.HTML object>"
            ],
            "text/html": [
              "\n",
              "  <style>\n",
              "    div.alert {\n",
              "      white-space: pre-line;\n",
              "    }\n",
              "  </style>\n"
            ]
          },
          "metadata": {}
        },
        {
          "output_type": "display_data",
          "data": {
            "text/plain": [
              "<IPython.core.display.HTML object>"
            ],
            "text/html": [
              "\n",
              "            <link rel=\"stylesheet\" href=\"https://stackpath.bootstrapcdn.com/bootstrap/4.4.1/css/bootstrap.min.css\" integrity=\"sha384-Vkoo8x4CGsO3+Hhxv8T/Q5PaXtkKtu6ug5TOeNV6gBiFeWPGFN9MuhOf23Q9Ifjh\" crossorigin=\"anonymous\">\n",
              "            <div class=\"alert alert-info\">No cache_root detected. Defaulting to staging_location gs://projeto_final_seguranca/pipeline/stage for cache location.</div>"
            ]
          },
          "metadata": {}
        },
        {
          "output_type": "stream",
          "name": "stderr",
          "text": [
            "WARNING:root:Make sure that locally built Python SDK docker image has Python 3.7 interpreter.\n"
          ]
        },
        {
          "output_type": "execute_result",
          "data": {
            "text/plain": [
              "<DataflowPipelineResult None at 0x7f6c820af590>"
            ]
          },
          "metadata": {},
          "execution_count": 3
        }
      ]
    }
  ]
}